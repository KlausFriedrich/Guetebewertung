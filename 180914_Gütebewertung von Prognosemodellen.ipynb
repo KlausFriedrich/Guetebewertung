{
 "cells": [
  {
   "cell_type": "markdown",
   "metadata": {
    "slideshow": {
     "slide_type": "slide"
    }
   },
   "source": [
    "# Gütebewertung von Prognosemodellen\n",
    "### Präsentation Stefan Rohmer\n",
    "#### - experimentell -"
   ]
  },
  {
   "cell_type": "code",
   "execution_count": 1,
   "metadata": {
    "slideshow": {
     "slide_type": "skip"
    }
   },
   "outputs": [],
   "source": [
    "### Lade Libraries und Packages\n",
    "\n",
    "#### Modifiziere Jupyter\n",
    "from ipywidgets import interact, fixed\n",
    "from IPython.display import Image\n",
    "\n",
    "#### Unterdrücke Warnings\n",
    "import warnings\n",
    "warnings.filterwarnings('ignore')\n",
    "#### Importiere Standardbibliotheken\n",
    "import numpy as np\n",
    "import pandas as pd\n",
    "from scipy.stats import truncnorm as trn\n",
    "#### Importiere Plotting Bibliotheken\n",
    "import matplotlib.pyplot as plt\n",
    "import seaborn as sns"
   ]
  },
  {
   "cell_type": "markdown",
   "metadata": {
    "slideshow": {
     "slide_type": "slide"
    }
   },
   "source": [
    "# Grundlagen"
   ]
  },
  {
   "cell_type": "markdown",
   "metadata": {
    "slideshow": {
     "slide_type": "subslide"
    }
   },
   "source": [
    "#### Ziel eines Prognosemodells ist es:"
   ]
  },
  {
   "cell_type": "markdown",
   "metadata": {
    "slideshow": {
     "slide_type": "fragment"
    }
   },
   "source": [
    " -  den Zusammenhang zwischen Input und Output Variablen zu modellieren"
   ]
  },
  {
   "cell_type": "markdown",
   "metadata": {
    "slideshow": {
     "slide_type": "fragment"
    }
   },
   "source": [
    " - anhand zukünftiger Inputs zukünftige Outputs zu prognostizieren"
   ]
  },
  {
   "cell_type": "markdown",
   "metadata": {
    "slideshow": {
     "slide_type": "subslide"
    }
   },
   "source": [
    "#### In unserem Fall: Binäre Klassifikation"
   ]
  },
  {
   "cell_type": "markdown",
   "metadata": {
    "slideshow": {
     "slide_type": "fragment"
    }
   },
   "source": [
    " - Zwei Klassen (1 und 0)"
   ]
  },
  {
   "cell_type": "markdown",
   "metadata": {
    "slideshow": {
     "slide_type": "fragment"
    }
   },
   "source": [
    " - Für das weitere Vorgehen: Erstellung eines binären 'Fake Modells'"
   ]
  },
  {
   "cell_type": "code",
   "execution_count": 2,
   "metadata": {
    "slideshow": {
     "slide_type": "skip"
    }
   },
   "outputs": [],
   "source": [
    "# Eine Klassifizierung ist ein Versuch, die in einem Datensatz vorhandenen Klassen zu trennen\n",
    "def FakeModell(mean_t = 0.5, mean_f = 0.5, std = 0.1, clip_a = 0, clip_b = 1, size_t = 1000, size_f = 1000):\n",
    "    at, bt = (clip_a - mean_t) / std, (clip_b - mean_t) / std\n",
    "    af, bf = (clip_a - mean_f) / std, (clip_b - mean_f) / std\n",
    "\n",
    "    x_true = trn.rvs(at, bt, mean_t, std, size = size_t)\n",
    "    x_true1 = np.ones(1000)\n",
    "    x_false = trn.rvs(af, bf, mean_f, std, size = size_f)\n",
    "    x_false1 = np.zeros(1000)\n",
    "\n",
    "    X = pd.DataFrame(np.append(arr=x_true, values=x_false))\n",
    "    X[1] = pd.DataFrame(np.append(arr=x_true1, values=x_false1))\n",
    "    \n",
    "    return X, x_true, x_false"
   ]
  },
  {
   "cell_type": "code",
   "execution_count": 3,
   "metadata": {
    "slideshow": {
     "slide_type": "skip"
    }
   },
   "outputs": [],
   "source": [
    "def figGen(TrueMean = 0.5, FalseMean = 0.5, threshold = 0.5):\n",
    "    plt.Figure(figsize=[40, 40])\n",
    "    plt.xlim(0,1)\n",
    "    \n",
    "    X, x_true, x_false = FakeModell(TrueMean, FalseMean)\n",
    "    sns.distplot(x_true, hist=False, label='Positive Werte')\n",
    "    sns.distplot(x_false, hist=False, label='Negative Werte')\n",
    "    plt.axvline(threshold, color='r')\n",
    "    return plt.show()\n"
   ]
  },
  {
   "cell_type": "markdown",
   "metadata": {
    "slideshow": {
     "slide_type": "subslide"
    }
   },
   "source": [
    "#### Mit diesem 'Fake Modell' lassen sich positive und negative Werte trennen"
   ]
  },
  {
   "cell_type": "code",
   "execution_count": 4,
   "metadata": {
    "slideshow": {
     "slide_type": "fragment"
    }
   },
   "outputs": [
    {
     "data": {
      "application/vnd.jupyter.widget-view+json": {
       "model_id": "73c89d778fa7404995fd90df9fcb9836",
       "version_major": 2,
       "version_minor": 0
      },
      "text/plain": [
       "interactive(children=(FloatSlider(value=0.5, description='TrueMean', max=1.5, min=-0.5), FloatSlider(value=0.5…"
      ]
     },
     "metadata": {},
     "output_type": "display_data"
    }
   ],
   "source": [
    "i1 = interact(figGen, TrueMean = 0.5, FalseMean = 0.5, threshold=fixed(0))"
   ]
  },
  {
   "cell_type": "markdown",
   "metadata": {
    "slideshow": {
     "slide_type": "subslide"
    }
   },
   "source": [
    "#### Backup"
   ]
  },
  {
   "cell_type": "code",
   "execution_count": 27,
   "metadata": {
    "slideshow": {
     "slide_type": "subslide"
    }
   },
   "outputs": [],
   "source": [
    "# Eine Klassifizierung ist ein Versuch, die in einem Datensatz vorhandenen Klassen zu trennen\n",
    "size_t = 1000\n",
    "size_f = 1000\n",
    "def FakeModell(mean_t = 0.5, mean_f = 0.5, std = 0.1, clip_a = 0, clip_b = 1, size_t = size_t, size_f = size_f):\n",
    "    at, bt = (clip_a - mean_t) / std, (clip_b - mean_t) / std\n",
    "    af, bf = (clip_a - mean_f) / std, (clip_b - mean_f) / std\n",
    "\n",
    "    x_true = trn.rvs(at, bt, mean_t, std, size = size_t)\n",
    "    x_true1 = np.ones(size_t)\n",
    "    x_false = trn.rvs(af, bf, mean_f, std, size = size_f)\n",
    "    x_false1 = np.zeros(size_f)\n",
    "\n",
    "    X = pd.DataFrame(np.append(arr=x_true, values=x_false))\n",
    "    X[1] = pd.DataFrame(np.append(arr=x_true1, values=x_false1))\n",
    "    \n",
    "    return X, x_true, x_false"
   ]
  },
  {
   "cell_type": "code",
   "execution_count": 6,
   "metadata": {
    "slideshow": {
     "slide_type": "subslide"
    }
   },
   "outputs": [],
   "source": [
    "def figGen(TrueMean = 0.5, FalseMean = 0.5, threshold = 0.5):\n",
    "    plt.Figure(figsize=[40, 40])\n",
    "    plt.xlim(0,1)\n",
    "    \n",
    "    X, x_true, x_false = FakeModell(TrueMean, FalseMean)\n",
    "    sns.distplot(x_true, hist=False, label='Positive Werte')\n",
    "    sns.distplot(x_false, hist=False, label='Negative Werte')\n",
    "    plt.axvline(threshold, color='r')\n",
    "    return plt.show()\n"
   ]
  },
  {
   "cell_type": "markdown",
   "metadata": {
    "slideshow": {
     "slide_type": "slide"
    }
   },
   "source": [
    "# Kennzahlen"
   ]
  },
  {
   "cell_type": "markdown",
   "metadata": {
    "slideshow": {
     "slide_type": "fragment"
    }
   },
   "source": [
    "Zur Gütebewertung vergleichen wir anschließend die Prognosewerte mit den tatsächlichen Werten"
   ]
  },
  {
   "cell_type": "markdown",
   "metadata": {
    "slideshow": {
     "slide_type": "subslide"
    }
   },
   "source": [
    "#### Die Prognosewerte ermitteln wir mit Hilfe eines Schwellwertes"
   ]
  },
  {
   "cell_type": "code",
   "execution_count": 28,
   "metadata": {
    "scrolled": false,
    "slideshow": {
     "slide_type": "fragment"
    }
   },
   "outputs": [
    {
     "data": {
      "application/vnd.jupyter.widget-view+json": {
       "model_id": "c62b732f5e5d4d27a3caafe662e03a04",
       "version_major": 2,
       "version_minor": 0
      },
      "text/plain": [
       "interactive(children=(FloatSlider(value=0.8, description='TrueMean', max=2.4000000000000004, min=-0.8), FloatS…"
      ]
     },
     "metadata": {},
     "output_type": "display_data"
    }
   ],
   "source": [
    "i2 = interact(figGen, TrueMean = 0.8, FalseMean = 0.4, threshold=0.5)"
   ]
  },
  {
   "cell_type": "code",
   "execution_count": 8,
   "metadata": {
    "slideshow": {
     "slide_type": "skip"
    }
   },
   "outputs": [],
   "source": [
    "# Stats\n",
    "def statsGen(TrueMean = 0.5, FalseMean = 0.5, threshold = 0.5, printer=0):\n",
    "    X, x_true, x_false = FakeModell(TrueMean, FalseMean)\n",
    "    \n",
    "    p = len(X[X[0] >= threshold]) # Klassifiziert alle Werte über dem Grenzwert als positiv\n",
    "    n = len(X[X[0] < threshold])  # Klassifiziert alle Werte unter dem Grenzwert als negativ\n",
    "\n",
    "    tp = len(X[(X[1]==1) & (X[0] >= threshold)]) # Berechnet die Anzahl 'wahrer' positiv-Klassifizierungen\n",
    "    fp = len(X[(X[1]==0) & (X[0] >= threshold)]) # Berechnet die Anzahl 'falscher' positiv-Klassifizierungen\n",
    "    tn = len(X[(X[1]==0) & (X[0] < threshold)])  # Berechnet die Anzahl 'wahrer' negativ-Klassifizierungen\n",
    "    fn = len(X[(X[1]==1) & (X[0] < threshold)])  # Berechnet die Anzahl 'falscher' negativ-Klassifizierungen\n",
    "    if printer == 0:\n",
    "        return p, n, tp, fp, tn, fn, X, x_true, x_false\n",
    "    if printer == 1:    \n",
    "        print('%d Fälle wurden richtigerweise positiv klassifiziert' % tp)\n",
    "        print('%d Fälle wurden falscherweise positiv klassifiziert' % fp)\n",
    "        print('%d Fälle wurden richtigerweise negativ klassifiziert' % tn)\n",
    "        print('%d Fälle wurden falscherweise negativ klassifiziert' % fn)"
   ]
  },
  {
   "cell_type": "code",
   "execution_count": 9,
   "metadata": {
    "slideshow": {
     "slide_type": "skip"
    }
   },
   "outputs": [],
   "source": [
    "p, n, tp, fp, tn, fn, X, x_true, x_false = statsGen()"
   ]
  },
  {
   "cell_type": "markdown",
   "metadata": {
    "slideshow": {
     "slide_type": "subslide"
    }
   },
   "source": [
    "#### Der Schwellwert führt dazu, dass die Werte klassifiziert werden"
   ]
  },
  {
   "cell_type": "code",
   "execution_count": 10,
   "metadata": {
    "slideshow": {
     "slide_type": "fragment"
    }
   },
   "outputs": [
    {
     "data": {
      "application/vnd.jupyter.widget-view+json": {
       "model_id": "1515a039a0374ce89bf12c9f5384e75c",
       "version_major": 2,
       "version_minor": 0
      },
      "text/plain": [
       "interactive(children=(FloatSlider(value=0.5, description='TrueMean', max=1.5, min=-0.5), FloatSlider(value=0.5…"
      ]
     },
     "metadata": {},
     "output_type": "display_data"
    }
   ],
   "source": [
    "i3 = interact(statsGen, X=fixed(X), threshold=0.5, printer = fixed(1));"
   ]
  },
  {
   "cell_type": "markdown",
   "metadata": {
    "slideshow": {
     "slide_type": "subslide"
    }
   },
   "source": [
    "#### Confusion Matrix\n",
    "##### Im binären Fall führt das zu einer 2x2 Confusion Matrix"
   ]
  },
  {
   "cell_type": "markdown",
   "metadata": {
    "slideshow": {
     "slide_type": "subslide"
    }
   },
   "source": [
    "![title](Images/Confusion_matrix.png)"
   ]
  },
  {
   "cell_type": "markdown",
   "metadata": {
    "slideshow": {
     "slide_type": "fragment"
    }
   },
   "source": [
    "\\\\( Accuracy = \\frac{tp + tn}{tp+tn+fp+fn} \\hspace{0.8cm}\\\\) Allgemeine Prognosegenauigkeit\n",
    "\n",
    "\\\\( Precision = \\frac{tp}{tp+fp} \\hspace{1.7cm}\\\\) Richtig klassifizierte positive Prognosewerte\n",
    "\n",
    "\\\\( Sensitivity = \\frac{tp}{tp+fn} \\hspace{1.6cm}\\\\) Positive Werte, richtig klassifiziert (Recall, True Positive Rate)\n",
    "\n",
    "\\\\( Specificity = \\frac{tn}{tn+fp} \\hspace{1.5cm}\\\\) Negative Werte, richtig klassifiziert (True Negative Rate)"
   ]
  },
  {
   "cell_type": "code",
   "execution_count": 11,
   "metadata": {
    "slideshow": {
     "slide_type": "skip"
    }
   },
   "outputs": [],
   "source": [
    "# Metriken\n",
    "def metricGen(TrueMean = 0.5, FalseMean = 0.5, threshold = 0.5, printer=0):\n",
    "    p, n, tp, fp, tn, fn, X, x_true, x_false = statsGen(TrueMean, FalseMean, threshold)\n",
    "    Sensitivity = tp/len(x_true)  # Berechnet Sensitivity-Kennzahl\n",
    "    Specificity = tn/len(x_false) # Berechnet Specificity-Kennzahl\n",
    "    Accuracy = (tp + tn) / len(X) # Berechnet Accuracy-Kennzahl\n",
    "    if p != 0:                    # Berechnet Precision-Kennzahl\n",
    "        Precision = tp/p \n",
    "    else:\n",
    "        Precision = 0\n",
    "    if printer == 0:\n",
    "        return Sensitivity, Specificity, Precision, Accuracy\n",
    "    if printer == 1:\n",
    "        print('Accuracy: '+'{:.2%}'.format(Accuracy))\n",
    "        print('Sensitivity: '+'{:.2%}'.format(Sensitivity))\n",
    "        print('Specificity: '+'{:.2%}'.format(Specificity))\n",
    "        print('Precision: '+'{:.2%}'.format(Precision))\n",
    "        "
   ]
  },
  {
   "cell_type": "code",
   "execution_count": 12,
   "metadata": {
    "slideshow": {
     "slide_type": "subslide"
    }
   },
   "outputs": [
    {
     "data": {
      "application/vnd.jupyter.widget-view+json": {
       "model_id": "dea24414783444f78c91ded959cddb0b",
       "version_major": 2,
       "version_minor": 0
      },
      "text/plain": [
       "interactive(children=(FloatSlider(value=0.5, description='TrueMean', max=1.5, min=-0.5), FloatSlider(value=0.5…"
      ]
     },
     "metadata": {},
     "output_type": "display_data"
    }
   ],
   "source": [
    "\n",
    "i4 = interact(metricGen, TrueMean = 0.5, FalseMean = 0.5, threshold = 0.5, printer = fixed(1));"
   ]
  },
  {
   "cell_type": "markdown",
   "metadata": {
    "slideshow": {
     "slide_type": "fragment"
    }
   },
   "source": [
    "Ein Modell das die Klassen besser trennt, schneidet besser ab. \n",
    "Mit dem Schwellwert können einzelne Kennzahlen optimiert werden."
   ]
  },
  {
   "cell_type": "markdown",
   "metadata": {
    "slideshow": {
     "slide_type": "subslide"
    }
   },
   "source": [
    "#### Probleme?"
   ]
  },
  {
   "cell_type": "markdown",
   "metadata": {
    "slideshow": {
     "slide_type": "fragment"
    }
   },
   "source": [
    "#### Kommt auf Usecase an! Aufpassen wenn:\n"
   ]
  },
  {
   "cell_type": "markdown",
   "metadata": {
    "slideshow": {
     "slide_type": "fragment"
    }
   },
   "source": [
    " - Klassen nicht mit gleicher Häufigkeit im Datensatz vertreten sind\n"
   ]
  },
  {
   "cell_type": "markdown",
   "metadata": {
    "slideshow": {
     "slide_type": "fragment"
    }
   },
   "source": [
    " - Oder hohe Kosten durch falsche Prognose entstehen\n"
   ]
  },
  {
   "cell_type": "markdown",
   "metadata": {
    "slideshow": {
     "slide_type": "fragment"
    }
   },
   "source": [
    " - Probleme treten auf, wenn in die Kennzahl positive UND negative Grundgesamtheit eingeht "
   ]
  },
  {
   "cell_type": "markdown",
   "metadata": {
    "slideshow": {
     "slide_type": "subslide"
    }
   },
   "source": [
    "![title](Images/Confusion_matrix.png)"
   ]
  },
  {
   "cell_type": "markdown",
   "metadata": {
    "slideshow": {
     "slide_type": "subslide"
    }
   },
   "source": [
    "#### Backup"
   ]
  },
  {
   "cell_type": "code",
   "execution_count": 13,
   "metadata": {
    "slideshow": {
     "slide_type": "subslide"
    }
   },
   "outputs": [],
   "source": [
    "# Stats\n",
    "def statsGen(TrueMean = 0.5, FalseMean = 0.5, threshold = 0.5, printer=0):\n",
    "    X, x_true, x_false = FakeModell(TrueMean, FalseMean)\n",
    "    \n",
    "    p = len(X[X[0] >= threshold]) # Klassifiziert alle Werte über dem Grenzwert als positiv\n",
    "    n = len(X[X[0] < threshold])  # Klassifiziert alle Werte unter dem Grenzwert als negativ\n",
    "\n",
    "    tp = len(X[(X[1]==1) & (X[0] >= threshold)]) # Berechnet die Anzahl 'wahrer' positiv-Klassifizierungen\n",
    "    fp = len(X[(X[1]==0) & (X[0] >= threshold)]) # Berechnet die Anzahl 'falscher' positiv-Klassifizierungen\n",
    "    tn = len(X[(X[1]==0) & (X[0] < threshold)])  # Berechnet die Anzahl 'wahrer' negativ-Klassifizierungen\n",
    "    fn = len(X[(X[1]==1) & (X[0] < threshold)])  # Berechnet die Anzahl 'falscher' negativ-Klassifizierungen\n",
    "    if printer == 0:\n",
    "        return p, n, tp, fp, tn, fn, X, x_true, x_false\n",
    "    if printer == 1:    \n",
    "        print('%d Fälle wurden richtigerweise positiv klassifiziert' % tp)\n",
    "        print('%d Fälle wurden falscherweise positiv klassifiziert' % fp)\n",
    "        print('%d Fälle wurden richtigerweise negativ klassifiziert' % tn)\n",
    "        print('%d Fälle wurden falscherweise negativ klassifiziert' % fn)"
   ]
  },
  {
   "cell_type": "code",
   "execution_count": 14,
   "metadata": {
    "slideshow": {
     "slide_type": "subslide"
    }
   },
   "outputs": [],
   "source": [
    "# Metriken\n",
    "def metricGen(tp = tp, tn = tn, p = p, x_true = x_true, x_false = x_false, X = X, printer=0):\n",
    "    \n",
    "    Sensitivity = tp/len(x_true)  # Berechnet Sensitivity-Kennzahl\n",
    "    Specificity = tn/len(x_false) # Berechnet Specificity-Kennzahl\n",
    "    Accuracy = (tp + tn) / len(X) # Berechnet Accuracy-Kennzahl\n",
    "    if p != 0:                    # Berechnet Precision-Kennzahl\n",
    "        Precision = tp/p \n",
    "    else:\n",
    "        Precision = 0\n",
    "    if printer == 1:\n",
    "        print('Sensitivity: '+'{:.2%}'.format(Sensitivity))\n",
    "        print('Specificity: '+'{:.2%}'.format(Specificity))\n",
    "        print('Precision: '+'{:.2%}'.format(Precision))\n",
    "        print('Accuracy: '+'{:.2%}'.format(Accuracy))\n",
    "    \n",
    "    return Sensitivity, Specificity, Precision, Accuracy\n"
   ]
  },
  {
   "cell_type": "markdown",
   "metadata": {
    "slideshow": {
     "slide_type": "slide"
    }
   },
   "source": [
    "# Gain"
   ]
  },
  {
   "cell_type": "markdown",
   "metadata": {
    "slideshow": {
     "slide_type": "fragment"
    }
   },
   "source": [
    "...bezieht sich auf den vertretenen Anteil der vorhergesagten Klasse in sortierten Abschnitten des Datensatzes   "
   ]
  },
  {
   "cell_type": "markdown",
   "metadata": {
    "slideshow": {
     "slide_type": "subslide"
    }
   },
   "source": [
    "#### Business Case"
   ]
  },
  {
   "cell_type": "markdown",
   "metadata": {
    "slideshow": {
     "slide_type": "fragment"
    }
   },
   "source": [
    " - Angenommen wir können maximal 2000 Kunden anschreiben"
   ]
  },
  {
   "cell_type": "markdown",
   "metadata": {
    "slideshow": {
     "slide_type": "fragment"
    }
   },
   "source": [
    " - Wir wissen aber, dass nur 1000 Kunden antworten"
   ]
  },
  {
   "cell_type": "markdown",
   "metadata": {
    "slideshow": {
     "slide_type": "fragment"
    }
   },
   "source": [
    " -  Idealerweise schreiben wir nur diese Kunden an"
   ]
  },
  {
   "cell_type": "markdown",
   "metadata": {
    "slideshow": {
     "slide_type": "subslide"
    }
   },
   "source": [
    "#### Vorgehen"
   ]
  },
  {
   "cell_type": "markdown",
   "metadata": {
    "slideshow": {
     "slide_type": "fragment"
    }
   },
   "source": [
    " - Mit unserem Prognosemodell trennen wir die Klassen voneinander"
   ]
  },
  {
   "cell_type": "markdown",
   "metadata": {
    "slideshow": {
     "slide_type": "fragment"
    }
   },
   "source": [
    " - Den resultierenden Datensatz sortieren wir nach den prognostizierten Wahrscheinlichkeiten"
   ]
  },
  {
   "cell_type": "markdown",
   "metadata": {
    "slideshow": {
     "slide_type": "fragment"
    }
   },
   "source": [
    " - Für die einzelnen Abschnitte des Datensatzes zählen wir den (kumulativen) Anteil der positiven Werte"
   ]
  },
  {
   "cell_type": "markdown",
   "metadata": {
    "slideshow": {
     "slide_type": "subslide"
    }
   },
   "source": [
    "#### In der Funktion machen wir genau das"
   ]
  },
  {
   "cell_type": "code",
   "execution_count": 15,
   "metadata": {
    "slideshow": {
     "slide_type": "fragment"
    }
   },
   "outputs": [],
   "source": [
    "def gainGen(TrueMean = 0.5, FalseMean = 0.5):\n",
    "    \n",
    "    gain = []\n",
    "    X, x_true, x_false = FakeModell(TrueMean, FalseMean)\n",
    "    X.sort_values(by=0, ascending=False, inplace=True) # Sortiert X nach den berechneten Wahrscheinlichkeiten\n",
    "    for i in range(1,len(X)):   # Berechnet die Summe aller positiven Werte im jeweiligen Bereich\n",
    "        a = (X[1].head(i).sum())/len(x_true)\n",
    "        gain.append([(i/len(X)), a])\n",
    "    return plt.plot(*zip(*gain))"
   ]
  },
  {
   "cell_type": "markdown",
   "metadata": {
    "slideshow": {
     "slide_type": "subslide"
    }
   },
   "source": [
    "#### Das Resultat ist ein Cumulative Gains Chart"
   ]
  },
  {
   "cell_type": "code",
   "execution_count": 16,
   "metadata": {
    "slideshow": {
     "slide_type": "fragment"
    }
   },
   "outputs": [
    {
     "data": {
      "text/plain": [
       "[<matplotlib.lines.Line2D at 0x1a43f302860>]"
      ]
     },
     "execution_count": 16,
     "metadata": {},
     "output_type": "execute_result"
    },
    {
     "data": {
      "image/png": "[encoded data removed]",
      "text/plain": [
       "<Figure size 432x288 with 1 Axes>"
      ]
     },
     "metadata": {},
     "output_type": "display_data"
    }
   ],
   "source": [
    "plt.figure()\n",
    "plt.xlabel('Tiefe sortierter Datensatz')\n",
    "plt.ylabel('Anteil Klasse 1 / True Positive Rate')\n",
    "\n",
    "gainGen() \n",
    "gainGen(0.9, 0.1)\n",
    "gainGen(0.6)"
   ]
  },
  {
   "cell_type": "markdown",
   "metadata": {
    "slideshow": {
     "slide_type": "fragment"
    }
   },
   "source": [
    " - Was bedeuten die unterschiedlichen Kurven?\n",
    " - Warum ist die orangene Kurve eckig?"
   ]
  },
  {
   "cell_type": "markdown",
   "metadata": {
    "slideshow": {
     "slide_type": "subslide"
    }
   },
   "source": [
    "#### Probleme?"
   ]
  },
  {
   "cell_type": "markdown",
   "metadata": {
    "slideshow": {
     "slide_type": "fragment"
    }
   },
   "source": [
    "![title](Images/gains_vs_roc.jpg)"
   ]
  },
  {
   "cell_type": "markdown",
   "metadata": {
    "slideshow": {
     "slide_type": "fragment"
    }
   },
   "source": [
    "#### Gains-Konzept verwendet positive und negative Werte in X-Achse\n",
    " - Vorsicht, wenn unterschiedliche Klassengrößen!\n",
    " - Vorsicht, wenn hohe Kosten für falsche Klassifizierung!"
   ]
  },
  {
   "cell_type": "markdown",
   "metadata": {
    "slideshow": {
     "slide_type": "subslide"
    }
   },
   "source": [
    "#### Backup"
   ]
  },
  {
   "cell_type": "code",
   "execution_count": 17,
   "metadata": {
    "slideshow": {
     "slide_type": "subslide"
    }
   },
   "outputs": [],
   "source": [
    "def gainGen(TrueMean = 0.5, FalseMean = 0.5):\n",
    "    \n",
    "    gain = []\n",
    "    X, x_true, x_false = FakeModell(TrueMean, FalseMean)\n",
    "    X.sort_values(by=0, ascending=False, inplace=True) # Sortiert X nach den berechneten Wahrscheinlichkeiten\n",
    "    for i in range(1,len(X)):   # Berechnet die Summe aller positiven Werte im jeweiligen Bereich\n",
    "        a = (X[1].head(i).sum())/len(x_true)\n",
    "        gain.append([(i/len(X)), a])\n",
    "    return plt.plot(*zip(*gain))"
   ]
  },
  {
   "cell_type": "markdown",
   "metadata": {
    "slideshow": {
     "slide_type": "slide"
    }
   },
   "source": [
    "# Lift"
   ]
  },
  {
   "cell_type": "markdown",
   "metadata": {
    "slideshow": {
     "slide_type": "fragment"
    }
   },
   "source": [
    "...bezieht sich auf die Performance des Prognosemodells in Relation zu einer Baselineperformance (Random Guess)"
   ]
  },
  {
   "cell_type": "markdown",
   "metadata": {
    "slideshow": {
     "slide_type": "subslide"
    }
   },
   "source": [
    "#### Business Case"
   ]
  },
  {
   "cell_type": "markdown",
   "metadata": {
    "slideshow": {
     "slide_type": "fragment"
    }
   },
   "source": [
    " - Angenommen wir können maximal 2000 Kunden anschreiben"
   ]
  },
  {
   "cell_type": "markdown",
   "metadata": {
    "slideshow": {
     "slide_type": "fragment"
    }
   },
   "source": [
    " - Wir wissen aber, dass nur 1000 Kunden antworten"
   ]
  },
  {
   "cell_type": "markdown",
   "metadata": {
    "slideshow": {
     "slide_type": "fragment"
    }
   },
   "source": [
    " -  Idealerweise schreiben wir nur diese Kunden an"
   ]
  },
  {
   "cell_type": "markdown",
   "metadata": {
    "slideshow": {
     "slide_type": "subslide"
    }
   },
   "source": [
    "#### Vorgehen"
   ]
  },
  {
   "cell_type": "markdown",
   "metadata": {
    "slideshow": {
     "slide_type": "fragment"
    }
   },
   "source": [
    " - Mit unserem Prognosemodell trennen wir die Klassen voneinander"
   ]
  },
  {
   "cell_type": "markdown",
   "metadata": {
    "slideshow": {
     "slide_type": "fragment"
    }
   },
   "source": [
    " - Den resultierenden Datensatz sortieren wir nach den prognostizierten Wahrscheinlichkeiten"
   ]
  },
  {
   "cell_type": "markdown",
   "metadata": {
    "slideshow": {
     "slide_type": "fragment"
    }
   },
   "source": [
    " - Für die einzelnen Abschnitte des Datensatzes berechnen wir die (kumulative) True Positive Rate"
   ]
  },
  {
   "cell_type": "markdown",
   "metadata": {
    "slideshow": {
     "slide_type": "fragment"
    }
   },
   "source": [
    " - Diese setzen wir in Relation zu unserem Benchmark (Raten)"
   ]
  },
  {
   "cell_type": "markdown",
   "metadata": {
    "slideshow": {
     "slide_type": "subslide"
    }
   },
   "source": [
    "#### In der Funktion machen wir genau das"
   ]
  },
  {
   "cell_type": "code",
   "execution_count": 18,
   "metadata": {
    "slideshow": {
     "slide_type": "fragment"
    }
   },
   "outputs": [],
   "source": [
    "def liftGen(TrueMean = 0.5, FalseMean = 0.5):\n",
    "    \n",
    "    lift = []\n",
    "    X, x_true, x_false = FakeModell(TrueMean, FalseMean)\n",
    "    X.sort_values(by=0, ascending=False, inplace=True) # Sortiert X nach den berechneten Wahrscheinlichkeiten\n",
    "    for i in range(200,len(X), 1):   # Hier liegt der Unterschied\n",
    "        b = (X[1].head(i).sum()/i)/(len(x_true)/len(X)) # Dieses Mal setzen wir die True Positive Rate des Modells\n",
    "        lift.append([i, b])                             # in Relation zu zufälligem Raten\n",
    "    return plt.plot(*zip(*lift))"
   ]
  },
  {
   "cell_type": "markdown",
   "metadata": {
    "slideshow": {
     "slide_type": "subslide"
    }
   },
   "source": [
    "#### Das Resultat ist ein Cumulative Lift Chart"
   ]
  },
  {
   "cell_type": "code",
   "execution_count": 19,
   "metadata": {
    "slideshow": {
     "slide_type": "fragment"
    }
   },
   "outputs": [
    {
     "data": {
      "text/plain": [
       "[<matplotlib.lines.Line2D at 0x1a43f3699b0>]"
      ]
     },
     "execution_count": 19,
     "metadata": {},
     "output_type": "execute_result"
    },
    {
     "data": {
      "image/png": "[encoded data removed]",
      "text/plain": [
       "<Figure size 432x288 with 1 Axes>"
      ]
     },
     "metadata": {},
     "output_type": "display_data"
    }
   ],
   "source": [
    "plt.figure()\n",
    "plt.xlabel('Anzahl betrachteter Werte')\n",
    "plt.ylabel('Cumulative Lift')\n",
    "liftGen() \n",
    "liftGen(0.9, 0.1)\n",
    "liftGen(0.6)"
   ]
  },
  {
   "cell_type": "markdown",
   "metadata": {
    "slideshow": {
     "slide_type": "fragment"
    }
   },
   "source": [
    " - Was bedeuten die unterschiedlichen Kurven?\n",
    " - Warum 'knickt' die orangene Kurve?\n",
    " - Woher kommt die starke Volatilität am Anfang?"
   ]
  },
  {
   "cell_type": "markdown",
   "metadata": {
    "slideshow": {
     "slide_type": "subslide"
    }
   },
   "source": [
    "#### Probleme?"
   ]
  },
  {
   "cell_type": "markdown",
   "metadata": {
    "slideshow": {
     "slide_type": "fragment"
    }
   },
   "source": [
    "#### Auch das Lift-Konzept verwendet positive und negative Werte in X-Achse\n",
    " - Vorsicht, wenn unterschiedliche Klassengrößen!\n",
    " - Vorsicht, wenn hohe Kosten für falsche Klassifizierung!\n",
    " - Je niedriger die Anzahl positiver Werte an der Grundgesamtheit (Baseline), desto höher der potentielle Lift\n",
    " - 50 Prozent: Maximaler Lift = 2    /    0.1 Prozent: Maximaler Lift = 1000"
   ]
  },
  {
   "cell_type": "markdown",
   "metadata": {
    "slideshow": {
     "slide_type": "subslide"
    }
   },
   "source": [
    "#### Backup"
   ]
  },
  {
   "cell_type": "code",
   "execution_count": 20,
   "metadata": {
    "slideshow": {
     "slide_type": "subslide"
    }
   },
   "outputs": [],
   "source": [
    "def liftGen(TrueMean = 0.5, FalseMean = 0.5):\n",
    "    \n",
    "    lift = []\n",
    "    X, x_true, x_false = FakeModell(TrueMean, FalseMean)\n",
    "    X.sort_values(by=0, ascending=False, inplace=True) # Sortiert X nach den berechneten Wahrscheinlichkeiten\n",
    "    for i in range(200,len(X), 1):   # Berechnet die Summe aller positiven Werte im jeweiligen Bereich\n",
    "        b = (X[1].head(i).sum()/i)/(len(x_true)/len(X))\n",
    "        lift.append([i, b])\n",
    "    return plt.plot(*zip(*lift))"
   ]
  },
  {
   "cell_type": "code",
   "execution_count": 21,
   "metadata": {
    "slideshow": {
     "slide_type": "skip"
    }
   },
   "outputs": [],
   "source": [
    "# Stats\n",
    "X, x_true, x_false = FakeModell()\n",
    "def statsGen1(threshold = 0.5, x_true = 0.5, x_false = 0.5, X=X, printer=0):\n",
    "    \n",
    "    \n",
    "    p = len(X[X[0] >= threshold]) # Klassifiziert alle Werte über dem Grenzwert als positiv\n",
    "    n = len(X[X[0] < threshold])  # Klassifiziert alle Werte unter dem Grenzwert als negativ\n",
    "\n",
    "    tp = len(X[(X[1]==1) & (X[0] >= threshold)]) # Berechnet die Anzahl 'wahrer' positiv-Klassifizierungen\n",
    "    fp = len(X[(X[1]==0) & (X[0] >= threshold)]) # Berechnet die Anzahl 'falscher' positiv-Klassifizierungen\n",
    "    tn = len(X[(X[1]==0) & (X[0] < threshold)])  # Berechnet die Anzahl 'wahrer' negativ-Klassifizierungen\n",
    "    fn = len(X[(X[1]==1) & (X[0] < threshold)])  # Berechnet die Anzahl 'falscher' negativ-Klassifizierungen\n",
    "    if printer == 1:    \n",
    "        print('%d Fälle wurden richtigerweise positiv klassifiziert' % tp)\n",
    "        print('%d Fälle wurden falscherweise positiv klassifiziert' % fp)\n",
    "        print('%d Fälle wurden richtigerweise negativ klassifiziert' % tn)\n",
    "        print('%d Fälle wurden falscherweise negativ klassifiziert' % fn)\n",
    "\n",
    "    return p, n, tp, fp, tn, fn"
   ]
  },
  {
   "cell_type": "markdown",
   "metadata": {
    "slideshow": {
     "slide_type": "slide"
    }
   },
   "source": [
    "# Receiver Operating Characteristics (ROC)"
   ]
  },
  {
   "cell_type": "markdown",
   "metadata": {
    "slideshow": {
     "slide_type": "fragment"
    }
   },
   "source": [
    "...setzt die True Positive Rate in Beziehung zur False Positive Rate"
   ]
  },
  {
   "cell_type": "markdown",
   "metadata": {
    "slideshow": {
     "slide_type": "fragment"
    }
   },
   "source": [
    "...vermeidet dadurch die Vermischung positiver und negativer Werte im Nenner"
   ]
  },
  {
   "cell_type": "markdown",
   "metadata": {
    "slideshow": {
     "slide_type": "subslide"
    }
   },
   "source": [
    "#### Anliegen"
   ]
  },
  {
   "cell_type": "markdown",
   "metadata": {
    "slideshow": {
     "slide_type": "fragment"
    }
   },
   "source": [
    " - Gain und Lift sind abhängig vom Anteil der Klassen an der Grundgesamtheit"
   ]
  },
  {
   "cell_type": "markdown",
   "metadata": {
    "slideshow": {
     "slide_type": "fragment"
    }
   },
   "source": [
    " - Wenn sich der Anteil ändert, ändert sich die Gütebewertung"
   ]
  },
  {
   "cell_type": "markdown",
   "metadata": {
    "slideshow": {
     "slide_type": "fragment"
    }
   },
   "source": [
    " -  Wir wollen aber eine Gütebewertung, die gleich bleibt "
   ]
  },
  {
   "cell_type": "markdown",
   "metadata": {
    "slideshow": {
     "slide_type": "subslide"
    }
   },
   "source": [
    "#### Vorgehen"
   ]
  },
  {
   "cell_type": "markdown",
   "metadata": {
    "slideshow": {
     "slide_type": "fragment"
    }
   },
   "source": [
    " - Mit unserem Prognosemodell trennen wir die Klassen voneinander"
   ]
  },
  {
   "cell_type": "markdown",
   "metadata": {
    "slideshow": {
     "slide_type": "fragment"
    }
   },
   "source": [
    " - Für unterschiedliche Schwellwerte berechnen wir die True Positive Rate und die False Positive Rate"
   ]
  },
  {
   "cell_type": "markdown",
   "metadata": {
    "slideshow": {
     "slide_type": "fragment"
    }
   },
   "source": [
    " - Diese setzen wir an jedem Schwellwert in Relation zu einander"
   ]
  },
  {
   "cell_type": "markdown",
   "metadata": {
    "slideshow": {
     "slide_type": "fragment"
    }
   },
   "source": [
    " - Am Ende können wir mit den einzelnen Punkten eine Kurve zeichnen, sowie die Fläche darunter als Kennzahl ausgeben"
   ]
  },
  {
   "cell_type": "markdown",
   "metadata": {
    "slideshow": {
     "slide_type": "subslide"
    }
   },
   "source": [
    "#### Zur Veranschaulichung"
   ]
  },
  {
   "cell_type": "code",
   "execution_count": 22,
   "metadata": {
    "slideshow": {
     "slide_type": "fragment"
    }
   },
   "outputs": [
    {
     "data": {
      "application/vnd.jupyter.widget-view+json": {
       "model_id": "a9c15d208fb7458fb1e6027919559fe0",
       "version_major": 2,
       "version_minor": 0
      },
      "text/plain": [
       "interactive(children=(FloatSlider(value=0.5, description='TrueMean', max=1.5, min=-0.5), FloatSlider(value=0.5…"
      ]
     },
     "metadata": {},
     "output_type": "display_data"
    }
   ],
   "source": [
    "i5 = interact(figGen, TrueMean = 0.5, FalseMean = 0.5, threshold=0.5)"
   ]
  },
  {
   "cell_type": "markdown",
   "metadata": {
    "slideshow": {
     "slide_type": "fragment"
    }
   },
   "source": [
    "Beginnend von 0 können wir den Schwellenwert von links nach rechts bewegen, um unsere ROC Punkte zu berechnen"
   ]
  },
  {
   "cell_type": "code",
   "execution_count": 23,
   "metadata": {
    "slideshow": {
     "slide_type": "skip"
    }
   },
   "outputs": [],
   "source": [
    "def rocGen(TrueMean = 0.5, FalseMean = 0.5):\n",
    "    X, x_true, x_false = FakeModell(TrueMean, FalseMean)\n",
    "    ROC = []\n",
    "    \n",
    "    for i in np.linspace(0.0001, 1, 1000):\n",
    "        threshold = i\n",
    "        p, n, tp, fp, tn, fn = statsGen1(threshold, x_true = x_true, X = X, x_false = x_false)\n",
    "        Sensitivity, Specificity, Precision, Accuracy = metricGen(tp = tp, tn = tn, p = p, x_true = x_true, x_false = x_false, X = X)\n",
    "        ROC.append([1-Specificity, Sensitivity])\n",
    "\n",
    "    return plt.plot(*zip(*ROC))\n",
    "\n"
   ]
  },
  {
   "cell_type": "markdown",
   "metadata": {
    "slideshow": {
     "slide_type": "subslide"
    }
   },
   "source": [
    "#### Mit den einzelnen ROC Werten lässt sich eine Kurve zeichnen"
   ]
  },
  {
   "cell_type": "code",
   "execution_count": 24,
   "metadata": {
    "scrolled": false,
    "slideshow": {
     "slide_type": "fragment"
    }
   },
   "outputs": [
    {
     "data": {
      "text/plain": [
       "[<matplotlib.lines.Line2D at 0x1a43f44f160>]"
      ]
     },
     "execution_count": 24,
     "metadata": {},
     "output_type": "execute_result"
    },
    {
     "data": {
      "image/png": "[encoded data removed]",
      "text/plain": [
       "<Figure size 432x288 with 1 Axes>"
      ]
     },
     "metadata": {},
     "output_type": "display_data"
    }
   ],
   "source": [
    "plt.figure()\n",
    "plt.xlabel('False Positive Rate')\n",
    "plt.ylabel('True Positive Rate')\n",
    "\n",
    "rocGen(0.8)\n",
    "rocGen(0.6)\n",
    "rocGen(0.5)"
   ]
  },
  {
   "cell_type": "markdown",
   "metadata": {
    "slideshow": {
     "slide_type": "fragment"
    }
   },
   "source": [
    " - Was bedeuten die unterschiedlichen Kurven?\n",
    " - Wo findet sich der Schwellenwert wieder?"
   ]
  },
  {
   "cell_type": "markdown",
   "metadata": {
    "slideshow": {
     "slide_type": "subslide"
    }
   },
   "source": [
    "#### Die ROC Kurve zeigt uns unabhängig von den Klassengrößen, wie gut unser Modell die Klassen trennt"
   ]
  },
  {
   "cell_type": "code",
   "execution_count": 25,
   "metadata": {
    "slideshow": {
     "slide_type": "fragment"
    }
   },
   "outputs": [
    {
     "data": {
      "application/vnd.jupyter.widget-view+json": {
       "model_id": "0f839d77f96b4ddba30e5650b5bb86f6",
       "version_major": 2,
       "version_minor": 0
      },
      "text/plain": [
       "interactive(children=(FloatSlider(value=0.5, description='TrueMean', max=1.5, min=-0.5), FloatSlider(value=0.5…"
      ]
     },
     "metadata": {},
     "output_type": "display_data"
    }
   ],
   "source": [
    "i6 = interact(rocGen, TrueMean = 0.5, FalseMean = 0.5)"
   ]
  },
  {
   "cell_type": "markdown",
   "metadata": {
    "slideshow": {
     "slide_type": "fragment"
    }
   },
   "source": [
    "Wenn es die Klassen gut trennt, nimmt für einen zunehmenden Schwellenwert die FPR stärker ab als die TPR"
   ]
  },
  {
   "cell_type": "markdown",
   "metadata": {
    "slideshow": {
     "slide_type": "subslide"
    }
   },
   "source": [
    "#### Letztendlich lässt sich für die ROC Kurve die Area Under Curve (AUC) berechnen"
   ]
  },
  {
   "cell_type": "markdown",
   "metadata": {
    "slideshow": {
     "slide_type": "fragment"
    }
   },
   "source": [
    "![title](Images/auc2.png)"
   ]
  },
  {
   "cell_type": "markdown",
   "metadata": {
    "slideshow": {
     "slide_type": "subslide"
    }
   },
   "source": [
    "#### Probleme?"
   ]
  },
  {
   "cell_type": "markdown",
   "metadata": {
    "slideshow": {
     "slide_type": "fragment"
    }
   },
   "source": [
    "#### Im Gegensatz zu Gain und Lift umgehen ROC und AUC das Problem zweier Klassen im Nenner\n",
    " - AUC von 0.9 ist besser als AUC von 0.8\n",
    " - Aber was bedeutet das für den konkreten Use-Case?\n",
    " - Gütebewertung findet über alle Schwellenwerte statt, auch wenn diese nicht sinnvoll sind\n",
    " - Modelle mit gleichem AUC können verschiedenen Gain oder Lift haben"
   ]
  },
  {
   "cell_type": "markdown",
   "metadata": {
    "slideshow": {
     "slide_type": "subslide"
    }
   },
   "source": [
    "#### Backup"
   ]
  },
  {
   "cell_type": "code",
   "execution_count": 26,
   "metadata": {
    "slideshow": {
     "slide_type": "subslide"
    }
   },
   "outputs": [],
   "source": [
    "def rocGen(TrueMean = 0.5, FalseMean = 0.5):\n",
    "    X, x_true, x_false = FakeModell(TrueMean, FalseMean)\n",
    "    ROC = []\n",
    "    \n",
    "    for i in np.linspace(0.0001, 1, 1000):\n",
    "        threshold = i\n",
    "        p, n, tp, fp, tn, fn = statsGen1(threshold, x_true = x_true, X = X, x_false = x_false)\n",
    "        Sensitivity, Specificity, Precision, Accuracy = metricGen(tp = tp, tn = tn, p = p, x_true = x_true, x_false = x_false, X = X)\n",
    "        ROC.append([1-Specificity, Sensitivity])\n",
    "\n",
    "    return plt.plot(*zip(*ROC))\n"
   ]
  },
  {
   "cell_type": "markdown",
   "metadata": {
    "slideshow": {
     "slide_type": "slide"
    }
   },
   "source": [
    "# Ende und Diskussion\n",
    "\n",
    "#### Vielen Dank für die Aufmerksamkeit!\n",
    "#### Fragen?"
   ]
  }
 ],
 "metadata": {
  "celltoolbar": "Slideshow",
  "kernelspec": {
   "display_name": "Python 3",
   "language": "python",
   "name": "python3"
  },
  "language_info": {
   "codemirror_mode": {
    "name": "ipython",
    "version": 3
   },
   "file_extension": ".py",
   "mimetype": "text/x-python",
   "name": "python",
   "nbconvert_exporter": "python",
   "pygments_lexer": "ipython3",
   "version": "3.6.5"
  },
  "rise": {
   "header": "<h1>Gütebewertung von Prognosemodellen - Stefan Rohmer</h1>",
   "scroll": true,
   "theme": "white",
   "transition": "linear"
  }
 },
 "nbformat": 4,
 "nbformat_minor": 2
}
